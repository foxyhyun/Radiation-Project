{
 "cells": [
  {
   "cell_type": "code",
   "execution_count": 18,
   "metadata": {},
   "outputs": [
    {
     "name": "stdout",
     "output_type": "stream",
     "text": [
      "<class 'pandas.core.frame.DataFrame'>\n",
      "RangeIndex: 44334 entries, 0 to 44333\n",
      "Data columns (total 16 columns):\n",
      " #   Column         Non-Null Count  Dtype         \n",
      "---  ------         --------------  -----         \n",
      " 0   기온(°C)         44334 non-null  float64       \n",
      " 1   풍속(m/s)        44334 non-null  float64       \n",
      " 2   풍향(16방위)       44334 non-null  float64       \n",
      " 3   습도(%)          44334 non-null  float64       \n",
      " 4   증기압(hPa)       44334 non-null  float64       \n",
      " 5   이슬점온도(°C)      44334 non-null  float64       \n",
      " 6   현지기압(hPa)      44334 non-null  float64       \n",
      " 7   해면기압(hPa)      44334 non-null  float64       \n",
      " 8   시정(10m)        44334 non-null  float64       \n",
      " 9   지면온도(°C)       44334 non-null  float64       \n",
      " 10  5cm 지중온도(°C)   44334 non-null  float64       \n",
      " 11  10cm 지중온도(°C)  44334 non-null  float64       \n",
      " 12  20cm 지중온도(°C)  44334 non-null  float64       \n",
      " 13  30cm 지중온도(°C)  44334 non-null  float64       \n",
      " 14  time           44334 non-null  datetime64[ns]\n",
      " 15  nsv            44334 non-null  float64       \n",
      "dtypes: datetime64[ns](1), float64(15)\n",
      "memory usage: 5.4 MB\n"
     ]
    }
   ],
   "source": [
    "import pandas as pd\n",
    "import numpy as np\n",
    "import matplotlib.pyplot as plt\n",
    "\n",
    "# === 데이터 불러오기 및 통합 === \n",
    "weather2017 = pd.read_csv('data/weather/weather2017.csv', encoding='cp949')\n",
    "weather2018 = pd.read_csv('data/weather/weather2018.csv', encoding='cp949')\n",
    "weather2019 = pd.read_csv('data/weather/weather2019.csv', encoding='cp949')\n",
    "weather2020 = pd.read_csv('data/weather/weather2020.csv', encoding='cp949')\n",
    "weather2021 = pd.read_csv('data/weather/weather2021.csv', encoding='cp949')\n",
    "weather2022 = pd.read_csv('data/weather/weather2022.csv', encoding='cp949')\n",
    "\n",
    "weather = pd.concat([weather2017, weather2018, weather2019, weather2020, weather2021, weather2022])\n",
    "#print(weather.shape) ==> (52563, 38)\n",
    "nsv = pd.read_csv('data/nsv/jeonnam.csv', encoding='cp949')\n",
    "# print(nsv.shape) ==> (191003, 17)\n",
    "\n",
    "# === 날씨 데이터 전처리 ===\n",
    "\n",
    "# 1. NaN 개수 확인하기\n",
    "# print(weather.isnull().sum()) # ==> 지울 것들 : 기온 QC플래그, 강수량 (mm), 강수량 QC플래그, 풍속 QC플래그, 풍향 QC플래그, 습도 QC플래그, 현지기압 QC플래그, 해면기압 QC플래그, 일조 (hr), 일조 QC플래그, 일사(MJ/m2), 일사 QC플래그, 적설 (cm), 3시간신적설 (cm), 운형(운형약어), 최저운고 (100m ), 지면상태(지면상태코드), 현상번호(국내식), 지면온도 QC플래그\n",
    "weather = weather.drop(['기온 QC플래그','강수량(mm)','전운량(10분위)','중하층운량(10분위)','강수량 QC플래그','풍속 QC플래그','풍향 QC플래그','습도 QC플래그','현지기압 QC플래그','해면기압 QC플래그','일조(hr)','일조 QC플래그','일사(MJ/m2)','일사 QC플래그','적설(cm)','3시간신적설(cm)','운형(운형약어)','최저운고(100m )','지면상태(지면상태코드)','현상번호(국내식)','지면온도 QC플래그'], axis=1)\n",
    "#print(nsv.isnull().sum())\n",
    "#print(weather.isnull().sum())\n",
    "\n",
    "# 2. 결측값 채우기(NaN => 이전값 대치)\n",
    "weather = weather.fillna(method='ffill')\n",
    "#print(weather.isnull().sum())\n",
    "\n",
    "# 3. 불필요한 변수 제거\n",
    "weather = weather.drop(['지점','지점명'],axis=1)\n",
    "nsv = nsv.drop(['id','device_id','data_type','CDMA_tel','InteTemp','ElecTemp','ip_addr','DoseRate_uR','DoseRate_low','DoseRate_high','InteTemp_high','ElecTemp_high','state','DoseRate_warn','DoseRate_alert'],axis=1)\n",
    "\n",
    "# 4. 날짜 포맷 맞추기\n",
    "weather['time'] = pd.to_datetime(weather['일시'])\n",
    "nsv['time'] = pd.to_datetime(nsv['rcv_time'])\n",
    "weather = weather.drop(['일시'], axis=1)\n",
    "nsv = nsv.drop(['rcv_time'], axis=1)\n",
    "# 5. 데이터 통합\n",
    "df = pd.merge(weather, nsv, on='time', how='inner')\n",
    "\n",
    "# 6. 기타\n",
    "df = df.rename(columns={'DoseRate_nSv': 'nsv'})\n",
    "df.info()\n"
   ]
  },
  {
   "cell_type": "code",
   "execution_count": null,
   "metadata": {},
   "outputs": [],
   "source": []
  }
 ],
 "metadata": {
  "kernelspec": {
   "display_name": "rmtec",
   "language": "python",
   "name": "python3"
  },
  "language_info": {
   "codemirror_mode": {
    "name": "ipython",
    "version": 3
   },
   "file_extension": ".py",
   "mimetype": "text/x-python",
   "name": "python",
   "nbconvert_exporter": "python",
   "pygments_lexer": "ipython3",
   "version": "3.8.17"
  },
  "orig_nbformat": 4
 },
 "nbformat": 4,
 "nbformat_minor": 2
}
